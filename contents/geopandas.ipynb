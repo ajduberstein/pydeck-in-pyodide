{
"metadata": {
"language_info": {
"codemirror_mode": {
"name": "python",
"version": 3
},
"file_extension": ".py",
"mimetype": "text/x-python",
"name": "python",
"nbconvert_exporter": "python",
"pygments_lexer": "ipython3",
"version": "3.8"
},
"kernelspec": {
"name": "python",
"display_name": "Python (Pyodide)",
"language": "python"
}
},
"nbformat_minor": 4,
"nbformat": 4,
"cells": [
{
"cell_type": "code",
"source": "import micropip\n\nawait micropip.install(['pandas', 'shapely', 'pyproj'])\nawait micropip.install('geopandas', deps=False)",
"metadata": {
"trusted": true
},
"execution_count": null,
"outputs": []
},
{
"cell_type": "code",
"source": "await micropip.install('pydeck==0.8.0b3')",
"metadata": {
"trusted": true
},
"execution_count": null,
"outputs": []
},
{
"cell_type": "code",
"source": "import pydeck as pdk\nimport pandas as pd\n\nfrom pyodide.http import open_url\n\n\n# Data from OpenStreetMap, accessed via osmpy\nDATA_URL = \"https://raw.githubusercontent.com/ajduberstein/geo_datasets/master/biergartens.json\"\nICON_URL = \"https://upload.wikimedia.org/wikipedia/commons/c/c4/Projet_bi%C3%A8re_logo_v2.png\"\n\nicon_data = {\n    # Icon from Wikimedia, used the Creative Commons Attribution-Share Alike 3.0\n    # Unported, 2.5 Generic, 2.0 Generic and 1.0 Generic licenses\n    \"url\": ICON_URL,\n    \"width\": 242,\n    \"height\": 242,\n    \"anchorY\": 242,\n}\n\ndata = pd.read_json(open_url(DATA_URL))\ndata[\"icon_data\"] = None\nfor i in data.index:\n    data[\"icon_data\"][i] = icon_data\n\nview_state = pdk.data_utils.compute_view(data[[\"lon\", \"lat\"]], 0.1)\n\nicon_layer = pdk.Layer(\n    type=\"IconLayer\",\n    data=data,\n    get_icon=\"icon_data\",\n    get_size=4,\n    size_scale=15,\n    get_position=[\"lon\", \"lat\"],\n    pickable=True,\n)\n\nr = pdk.Deck(layers=[icon_layer], initial_view_state=view_state, tooltip={\"text\": \"{tags}\"})\nr.to_html(\"icon_layer.html\", notebook_display=True)",
"metadata": {
"trusted": true
},
"execution_count": null,
"outputs": []
}
]
}
